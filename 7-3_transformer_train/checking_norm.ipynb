{
 "cells": [
  {
   "cell_type": "code",
   "execution_count": 1,
   "metadata": {},
   "outputs": [],
   "source": [
    "import numpy as np\n",
    "import pandas as pd\n",
    "import torch\n",
    "import os\n",
    "import sys"
   ]
  },
  {
   "cell_type": "code",
   "execution_count": 2,
   "metadata": {},
   "outputs": [
    {
     "name": "stdout",
     "output_type": "stream",
     "text": [
      "Size of mean_audio is torch.Size([120])\n",
      "mean_audio tensor([-3.5432e+02,  1.5879e+02, -2.1145e+01,  3.4740e+01, -1.0020e+01,\n",
      "         1.4506e+01, -1.6941e+01,  1.1137e+00, -1.1210e+01, -3.9170e+00,\n",
      "        -7.7184e+00, -2.1784e+00, -4.8275e+00,  2.8195e-01,  1.2547e+00,\n",
      "        -1.1306e+00,  6.3772e-01, -4.8371e-01,  4.3302e-01, -5.4289e-01,\n",
      "         1.7489e-01, -2.9805e-01, -1.3615e-02, -2.0654e-01, -1.7869e-02,\n",
      "        -1.1357e-01,  1.3960e+00, -1.3412e+00,  1.2757e+00, -6.7841e-01,\n",
      "         6.1256e-01, -4.5092e-01,  6.2044e-01, -2.0112e-01,  3.3806e-01,\n",
      "         3.1277e-03,  2.2902e-01,  2.3295e-02,  1.2660e-01,  5.1778e-02,\n",
      "         2.5621e+03,  3.0453e+03,  1.3999e+01,  1.1635e+01,  1.5107e+01,\n",
      "         1.5660e+01,  1.6466e+01,  1.8257e+01,  2.4649e+01,  4.7396e+03,\n",
      "         5.4310e-02,  7.7398e-01, -2.4399e-06,  8.6768e-03,  7.8261e-01,\n",
      "         4.1095e+00,  7.3411e+00,  9.0273e+00,  8.4122e+00,  9.0305e+00,\n",
      "         1.0078e+01,  9.0442e+00,  7.3356e+00,  5.9940e+00,  4.7529e+00,\n",
      "         3.5916e+00,  2.6200e+00,  1.9402e+00,  1.4448e+00,  1.1456e+00,\n",
      "         9.3956e-01,  8.0617e-01,  6.8599e-01,  6.1216e-01,  5.4418e-01,\n",
      "         4.9133e-01,  4.3169e-01,  3.7564e-01,  3.0485e-01,  2.4150e-01,\n",
      "         1.8737e-01,  1.4784e-01,  1.2863e-01,  1.2505e-01,  1.1851e-01,\n",
      "         1.0074e-01,  7.8210e-02,  6.3038e-02,  5.5031e-02,  5.0862e-02,\n",
      "         4.4570e-02,  3.7188e-02,  3.1397e-02,  2.6153e-02,  2.2449e-02,\n",
      "         2.0821e-02,  2.0367e-02,  2.0403e-02,  1.9617e-02,  1.8184e-02,\n",
      "         1.7246e-02,  1.6125e-02,  1.4431e-02,  1.1721e-02,  9.3312e-03,\n",
      "         7.4712e-03,  5.5214e-03,  3.7002e-03,  2.3059e-03,  1.4137e-03,\n",
      "         8.4697e-04,  5.2451e-04,  3.9998e-04,  2.1795e-04,  3.4819e-05,\n",
      "         3.1789e-05,  3.0479e-05,  2.9672e-05,  0.0000e+00,  0.0000e+00])\n",
      "Size of std_audio is torch.Size([120])\n",
      "std_audio tensor([1.2213e+02, 4.3684e+01, 3.3846e+01, 3.0760e+01, 2.6000e+01, 2.1998e+01,\n",
      "        1.6187e+01, 1.6285e+01, 1.3170e+01, 1.3933e+01, 1.1144e+01, 1.0833e+01,\n",
      "        9.5302e+00, 1.1916e+01, 5.8483e+00, 3.8046e+00, 3.3921e+00, 2.7941e+00,\n",
      "        2.3553e+00, 1.9646e+00, 1.8348e+00, 1.6238e+00, 1.5911e+00, 1.4222e+00,\n",
      "        1.3625e+00, 1.2710e+00, 2.4140e+00, 1.4104e+00, 1.0864e+00, 9.4943e-01,\n",
      "        8.3881e-01, 7.5304e-01, 6.2995e-01, 6.2797e-01, 5.5623e-01, 5.6342e-01,\n",
      "        4.7669e-01, 4.5295e-01, 4.1109e-01, 5.6172e-02, 1.4513e+03, 7.8646e+02,\n",
      "        4.1827e+00, 3.3931e+00, 3.6165e+00, 3.3140e+00, 3.0112e+00, 3.9362e+00,\n",
      "        5.5447e+00, 2.8267e+03, 6.1257e-02, 5.4857e-01, 2.2229e-03, 2.1113e-02,\n",
      "        7.7419e+00, 2.0706e+01, 3.1311e+01, 4.1582e+01, 4.1462e+01, 4.4627e+01,\n",
      "        4.9149e+01, 4.5207e+01, 3.8592e+01, 3.4118e+01, 2.9609e+01, 2.4799e+01,\n",
      "        2.0157e+01, 1.6450e+01, 1.2898e+01, 1.0672e+01, 8.8278e+00, 7.3946e+00,\n",
      "        6.3157e+00, 5.4575e+00, 4.7370e+00, 4.1163e+00, 3.5503e+00, 3.2532e+00,\n",
      "        2.5330e+00, 2.0802e+00, 1.5901e+00, 1.2391e+00, 9.7671e-01, 9.2500e-01,\n",
      "        9.5061e-01, 8.4948e-01, 6.4163e-01, 5.6396e-01, 5.1914e-01, 4.5542e-01,\n",
      "        3.9837e-01, 3.4796e-01, 3.3275e-01, 3.2476e-01, 2.7990e-01, 2.6855e-01,\n",
      "        2.7451e-01, 2.8306e-01, 2.6810e-01, 2.6356e-01, 2.3742e-01, 2.2799e-01,\n",
      "        2.1057e-01, 1.7448e-01, 1.4780e-01, 1.3188e-01, 1.0654e-01, 7.8387e-02,\n",
      "        5.1615e-02, 3.6774e-02, 1.9872e-02, 1.3740e-02, 1.1957e-02, 1.1808e-02,\n",
      "        1.0000e-03, 1.0000e-03, 1.0000e-03, 1.0000e-03, 1.0000e-03, 1.0000e-03])\n",
      "Size of mean_video is torch.Size([1024])\n",
      "mean_video tensor([17.3197, 16.7725, 16.8953,  ..., 15.5209, 16.4516, 17.0721])\n",
      "Size of std_video is torch.Size([1024])\n",
      "std_video tensor([3.5837, 3.6338, 3.4609,  ..., 4.2801, 3.9840, 3.9650])\n"
     ]
    },
    {
     "name": "stderr",
     "output_type": "stream",
     "text": [
      "C:\\Users\\gian\\AppData\\Local\\Temp\\ipykernel_2136\\3558253184.py:2: FutureWarning: You are using `torch.load` with `weights_only=False` (the current default value), which uses the default pickle module implicitly. It is possible to construct malicious pickle data which will execute arbitrary code during unpickling (See https://github.com/pytorch/pytorch/blob/main/SECURITY.md#untrusted-models for more details). In a future release, the default value for `weights_only` will be flipped to `True`. This limits the functions that could be executed during unpickling. Arbitrary objects will no longer be allowed to be loaded via this mode unless they are explicitly allowlisted by the user via `torch.serialization.add_safe_globals`. We recommend you start setting `weights_only=True` for any use case where you don't have full control of the loaded file. Please open an issue on GitHub for any issues related to this experimental feature.\n",
      "  norm_params = torch.load('normalization_params_cae.pth')\n"
     ]
    }
   ],
   "source": [
    "# checking normalization_params_cae.pth\n",
    "norm_params = torch.load(\"normalization_params_cae.pth\")\n",
    "\n",
    "# for each key, print values\n",
    "for key in norm_params.keys():\n",
    "    print(f\"Size of {key} is {norm_params[key].shape}\")\n",
    "    print(key, norm_params[key])"
   ]
  },
  {
   "cell_type": "code",
   "execution_count": null,
   "metadata": {},
   "outputs": [],
   "source": []
  }
 ],
 "metadata": {
  "kernelspec": {
   "display_name": "fall24",
   "language": "python",
   "name": "python3"
  },
  "language_info": {
   "codemirror_mode": {
    "name": "ipython",
    "version": 3
   },
   "file_extension": ".py",
   "mimetype": "text/x-python",
   "name": "python",
   "nbconvert_exporter": "python",
   "pygments_lexer": "ipython3",
   "version": "3.10.14"
  }
 },
 "nbformat": 4,
 "nbformat_minor": 2
}
