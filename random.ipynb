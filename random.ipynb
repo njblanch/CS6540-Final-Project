{
 "cells": [
  {
   "cell_type": "code",
   "execution_count": 2,
   "metadata": {},
   "outputs": [],
   "source": [
    "import numpy as np"
   ]
  },
  {
   "cell_type": "code",
   "execution_count": 50,
   "metadata": {},
   "outputs": [
    {
     "name": "stdout",
     "output_type": "stream",
     "text": [
      "9.591663046625438\n"
     ]
    }
   ],
   "source": [
    "print(np.sqrt(92))"
   ]
  },
  {
   "cell_type": "code",
   "execution_count": 16,
   "metadata": {},
   "outputs": [
    {
     "name": "stdout",
     "output_type": "stream",
     "text": [
      "106.14116771851532\n"
     ]
    }
   ],
   "source": [
    "# randomly initialize 10000 numbers from -15 to 15\n",
    "x = np.random.randint(-130, 130, 100000000)\n",
    "y = np.random.randint(-130, 130, 100000000)\n",
    "\n",
    "rmse = np.sqrt(np.mean((x - y) ** 2))\n",
    "print(rmse) # 12.24"
   ]
  },
  {
   "cell_type": "code",
   "execution_count": 13,
   "metadata": {},
   "outputs": [
    {
     "name": "stdout",
     "output_type": "stream",
     "text": [
      "Simulated RMSE for random guessing: 12.2419\n"
     ]
    }
   ],
   "source": [
    "# Parameters\n",
    "num_samples = 10000  # Number of random samples to simulate\n",
    "a, b = -15, 15  # Range of the uniform distribution\n",
    "\n",
    "true_values = np.random.uniform(a, b, num_samples)\n",
    "guessed_values = np.random.uniform(a, b, num_samples)\n",
    "squared_errors = (guessed_values - true_values) ** 2\n",
    "rmse = np.sqrt(np.mean(squared_errors))\n",
    "\n",
    "print(f\"Simulated RMSE for random guessing: {rmse:.4f}\")"
   ]
  },
  {
   "cell_type": "code",
   "execution_count": 15,
   "metadata": {},
   "outputs": [
    {
     "name": "stdout",
     "output_type": "stream",
     "text": [
      "Mean absolute difference between all pairs of values: 10.3226\n"
     ]
    }
   ],
   "source": [
    "values = np.linspace(-15, 15, 31)\n",
    "abs_diff = np.abs(values[:, None] - values)\n",
    "mean_abs_diff = np.mean(abs_diff)\n",
    "\n",
    "print(f\"Mean absolute difference between all pairs of values: {mean_abs_diff:.4f}\")"
   ]
  },
  {
   "cell_type": "code",
   "execution_count": null,
   "metadata": {},
   "outputs": [],
   "source": []
  }
 ],
 "metadata": {
  "kernelspec": {
   "display_name": "fall24",
   "language": "python",
   "name": "python3"
  },
  "language_info": {
   "codemirror_mode": {
    "name": "ipython",
    "version": 3
   },
   "file_extension": ".py",
   "mimetype": "text/x-python",
   "name": "python",
   "nbconvert_exporter": "python",
   "pygments_lexer": "ipython3",
   "version": "3.10.14"
  }
 },
 "nbformat": 4,
 "nbformat_minor": 2
}
