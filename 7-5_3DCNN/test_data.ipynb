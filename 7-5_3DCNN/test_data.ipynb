{
 "cells": [
  {
   "cell_type": "code",
   "execution_count": 7,
   "metadata": {},
   "outputs": [],
   "source": [
    "import pandas as pd\n",
    "# import pytorch as torch\n",
    "\n",
    "## pandas more columns and print space\n",
    "pd.set_option('display.max_columns', 20)\n",
    "pd.set_option('display.width', 2000)"
   ]
  },
  {
   "cell_type": "code",
   "execution_count": 3,
   "metadata": {},
   "outputs": [
    {
     "name": "stdout",
     "output_type": "stream",
     "text": [
      "(1546, 1028)\n",
      "(10928, 14)\n"
     ]
    }
   ],
   "source": [
    "visual = pd.read_parquet(\"__1fNpsZC_U.parquet\")\n",
    "audio = pd.read_csv(\"__1fNpsZC_U.csv\")\n",
    "\n",
    "# rename audio[\"video_number\"] to clip_num\n",
    "audio = audio.rename(columns={\"video_number\": \"clip_num\"})\n",
    "\n",
    "print(visual.shape)\n",
    "print(audio.shape)"
   ]
  },
  {
   "cell_type": "code",
   "execution_count": 4,
   "metadata": {},
   "outputs": [
    {
     "name": "stdout",
     "output_type": "stream",
     "text": [
      "Index(['video_id', 'clip_num', 'frame_number', 'desync', 'feature_0', 'feature_1', 'feature_2', 'feature_3', 'feature_4', 'feature_5',\n",
      "       ...\n",
      "       'feature_1014', 'feature_1015', 'feature_1016', 'feature_1017', 'feature_1018', 'feature_1019', 'feature_1020', 'feature_1021', 'feature_1022', 'feature_1023'], dtype='object', length=1028)\n",
      "Index(['video_id', 'clip_num', 'mfcc_2', 'mfcc_3', 'mfcc_4', 'mfcc_5', 'mfcc_6', 'mfcc_7', 'mfcc_8', 'mfcc_9', 'mfcc_10', 'mfcc_11', 'mfcc_12', 'mfcc_13'], dtype='object')\n"
     ]
    }
   ],
   "source": [
    "print(visual.columns)\n",
    "print(audio.columns)"
   ]
  },
  {
   "cell_type": "code",
   "execution_count": 8,
   "metadata": {},
   "outputs": [
    {
     "name": "stdout",
     "output_type": "stream",
     "text": [
      "      video_id clip_num  frame_number desync  feature_0  feature_1  feature_2  feature_3  feature_4  feature_5  ...  feature_1014  feature_1015  feature_1016  feature_1017  feature_1018  feature_1019  feature_1020  feature_1021  feature_1022  feature_1023\n",
      "0  __1fNpsZC_U       10             0     13  -0.024577  -0.085072  -0.150006  -0.201290  -0.226760  -0.231431  ...     -0.624037     -0.599273     -0.558498     -0.490686     -0.410196     -0.330550     -0.254370     -0.187701     -0.119203     -0.049818\n",
      "1  __1fNpsZC_U       10             1     13  -0.038730  -0.112789  -0.174312  -0.210739  -0.223675  -0.224680  ...     -0.248029     -0.241494     -0.230457     -0.212181     -0.188689     -0.157973     -0.119234     -0.080645     -0.047170     -0.019361\n",
      "2  __1fNpsZC_U       10             2     13   0.400696   0.603115   0.753497   0.842945   0.874013   0.876752  ...     -1.085752     -1.018198     -0.936655     -0.842307     -0.721184     -0.584765     -0.450633     -0.307790     -0.157153     -0.064555\n",
      "3  __1fNpsZC_U       10             3     13   0.088240   0.182674   0.323933   0.402266   0.430122   0.430581  ...     -0.209621     -0.186386     -0.164738     -0.146898     -0.129216     -0.106125     -0.081348     -0.050811     -0.020348     -0.006131\n",
      "4  __1fNpsZC_U       10             4     13   0.000364  -0.048665  -0.047691   0.005153   0.043757   0.051985  ...      0.368650      0.334276      0.292234      0.252251      0.223804      0.207355      0.191575      0.155752      0.083364      0.025419\n",
      "\n",
      "[5 rows x 1028 columns]\n",
      "      video_id  clip_num    mfcc_2    mfcc_3    mfcc_4    mfcc_5    mfcc_6    mfcc_7    mfcc_8    mfcc_9   mfcc_10   mfcc_11   mfcc_12   mfcc_13\n",
      "0  __1fNpsZC_U        18  0.550039  0.660431  0.758695  0.321711  0.286640  0.593059  0.318982  0.118914  0.431827  0.212607  0.501601  0.388571\n",
      "1  __1fNpsZC_U        18  0.597286  0.422491  0.675969  0.467777  0.404615  0.417019  0.330376  0.192608  0.484619  0.573281  0.458015  0.411456\n",
      "2  __1fNpsZC_U        18  0.595670  0.492262  0.731961  0.474703  0.207976  0.360039  0.309376  0.096169  0.367982  0.491562  0.618827  0.570271\n",
      "3  __1fNpsZC_U        18  0.628267  0.520008  0.734577  0.547034  0.331142  0.345561  0.347141  0.147901  0.324086  0.367518  0.692354  0.588020\n",
      "4  __1fNpsZC_U        18  0.637072  0.592141  0.621406  0.483726  0.445336  0.304915  0.354256  0.247433  0.398343  0.389438  0.670515  0.732748\n"
     ]
    }
   ],
   "source": [
    "print(visual.head())\n",
    "print(audio.head())"
   ]
  },
  {
   "cell_type": "code",
   "execution_count": 6,
   "metadata": {},
   "outputs": [
    {
     "name": "stdout",
     "output_type": "stream",
     "text": [
      "clip_num\n",
      "0     168\n",
      "10    160\n",
      "7     154\n",
      "20    149\n",
      "18    130\n",
      "4     130\n",
      "6     102\n",
      "13     94\n",
      "2      91\n",
      "21     88\n",
      "19     78\n",
      "8      71\n",
      "11     67\n",
      "16     64\n",
      "Name: count, dtype: int64\n",
      "clip_num\n",
      "0     1185\n",
      "10    1128\n",
      "7     1086\n",
      "20    1053\n",
      "18     917\n",
      "4      917\n",
      "6      722\n",
      "13     665\n",
      "2      644\n",
      "21     623\n",
      "19     553\n",
      "8      506\n",
      "11     475\n",
      "16     454\n",
      "Name: count, dtype: int64\n"
     ]
    }
   ],
   "source": [
    "# count number of rows per each clip num for video and audio\n",
    "print(visual[\"clip_num\"].value_counts())\n",
    "print(audio[\"clip_num\"].value_counts())"
   ]
  },
  {
   "cell_type": "code",
   "execution_count": 10,
   "metadata": {},
   "outputs": [
    {
     "name": "stdout",
     "output_type": "stream",
     "text": [
      "      video_id  clip_num    mfcc_2    mfcc_3    mfcc_4    mfcc_5    mfcc_6    mfcc_7    mfcc_8    mfcc_9   mfcc_10   mfcc_11   mfcc_12   mfcc_13   mfcc_ms\n",
      "0  __1fNpsZC_U        18  0.550039  0.660431  0.758695  0.321711  0.286640  0.593059  0.318982  0.118914  0.431827  0.212607  0.501601  0.388571  0.171429\n",
      "1  __1fNpsZC_U        18  0.597286  0.422491  0.675969  0.467777  0.404615  0.417019  0.330376  0.192608  0.484619  0.573281  0.458015  0.411456  0.171429\n",
      "2  __1fNpsZC_U        18  0.595670  0.492262  0.731961  0.474703  0.207976  0.360039  0.309376  0.096169  0.367982  0.491562  0.618827  0.570271  0.171429\n",
      "3  __1fNpsZC_U        18  0.628267  0.520008  0.734577  0.547034  0.331142  0.345561  0.347141  0.147901  0.324086  0.367518  0.692354  0.588020  0.171429\n",
      "4  __1fNpsZC_U        18  0.637072  0.592141  0.621406  0.483726  0.445336  0.304915  0.354256  0.247433  0.398343  0.389438  0.670515  0.732748  0.171429\n"
     ]
    }
   ],
   "source": [
    "mfcc_ms = 1/(15*7)\n",
    "\n",
    "# adding mfcc_ms to audio for each row within a given clip\n",
    "audio[\"mfcc_ms\"] = audio[\"clip_num\"].apply(lambda x: x*mfcc_ms)\n",
    "print(audio.head())"
   ]
  },
  {
   "cell_type": "code",
   "execution_count": null,
   "metadata": {},
   "outputs": [],
   "source": []
  }
 ],
 "metadata": {
  "kernelspec": {
   "display_name": "fall24",
   "language": "python",
   "name": "python3"
  },
  "language_info": {
   "codemirror_mode": {
    "name": "ipython",
    "version": 3
   },
   "file_extension": ".py",
   "mimetype": "text/x-python",
   "name": "python",
   "nbconvert_exporter": "python",
   "pygments_lexer": "ipython3",
   "version": "3.10.14"
  }
 },
 "nbformat": 4,
 "nbformat_minor": 2
}
